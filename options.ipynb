{
 "cells": [
  {
   "cell_type": "code",
   "execution_count": null,
   "metadata": {},
   "outputs": [],
   "source": [
    "import numpy as np\n",
    "import pandas as pd\n",
    "import matplotlib.pyplot as plt\n",
    "from mpl_toolkits.mplot3d import Axes3D\n",
    "%matplotlib notebook\n",
    "import datetime as dt\n",
    "from scipy.stats import norm\n",
    "import requests\n",
    "import json"
   ]
  },
  {
   "cell_type": "code",
   "execution_count": null,
   "metadata": {},
   "outputs": [],
   "source": [
    "def yahoo_opt_clean(x, type):\n",
    "    x = pd.io.json.json_normalize(x['optionChain']['result'][0]['options'][0][type])\n",
    "    x = x[['ask', 'bid', 'expiration', 'strike', 'inTheMoney']]\n",
    "    if type == 'calls':\n",
    "        x['type'] = 'C'\n",
    "    elif type == 'puts':\n",
    "        x['type'] = 'P'\n",
    "    else:\n",
    "        raise ValueError('Unknown option type')\n",
    "    return x\n",
    "\n",
    "\n",
    "def get_options():\n",
    "    url = 'https://query2.finance.yahoo.com/v7/finance/options/SPY'\n",
    "    content = requests.get(url).text\n",
    "    content = json.loads(content)\n",
    "    current_price = content['optionChain']['result'][0]['quote']['regularMarketPrice']\n",
    "    current_date = content['optionChain']['result'][0]['quote']['regularMarketTime']\n",
    "    dates = content['optionChain']['result'][0]['expirationDates']\n",
    "    options = yahoo_opt_clean(content, 'calls')\n",
    "    df = yahoo_opt_clean(content, 'puts')\n",
    "    options = options.append(df, ignore_index=True)\n",
    "    for i in range(1, 18):\n",
    "        content = requests.get(url + '?date=' + str(dates[i])).text\n",
    "        content = json.loads(content)\n",
    "        df = yahoo_opt_clean(content, 'calls')\n",
    "        options = options.append(df, ignore_index=True)\n",
    "        df = yahoo_opt_clean(content, 'puts')\n",
    "        options = options.append(df, ignore_index=True)\n",
    "    return options, current_price, current_date\n",
    "\n",
    "options, current_price, date = get_options()"
   ]
  },
  {
   "cell_type": "code",
   "execution_count": null,
   "metadata": {},
   "outputs": [],
   "source": [
    "options.drop(options[options.inTheMoney == True].index, inplace=True)\n",
    "options['price'] = (options['ask'] - options['bid'])/2 + options['bid']\n",
    "options.drop(['ask', 'bid', 'inTheMoney'], axis=1, inplace=True)\n",
    "options.reset_index(drop=True, inplace=True)"
   ]
  },
  {
   "cell_type": "code",
   "execution_count": null,
   "metadata": {},
   "outputs": [],
   "source": [
    "df = options.copy(deep=True)\n",
    "# Pivot\n",
    "df = df.pivot(index='expiration', columns='strike', values='price')\n",
    "# Only keep columns with no NaN's\n",
    "df = df[df.columns[~df.isna().any()]]\n",
    "# Convert the index to number of days from today\n",
    "date = dt.datetime.fromtimestamp(int(date))\n",
    "df.index = pd.to_datetime(df.index, unit='s')\n",
    "df.index = (df.index - date).days\n",
    "# Drop rows more than 100 days out\n",
    "df = df[df.index < 100]"
   ]
  },
  {
   "cell_type": "code",
   "execution_count": null,
   "metadata": {},
   "outputs": [],
   "source": [
    "df.head()"
   ]
  },
  {
   "cell_type": "code",
   "execution_count": null,
   "metadata": {},
   "outputs": [],
   "source": [
    "# Get interest rate\n",
    "r = 0.05"
   ]
  },
  {
   "cell_type": "code",
   "execution_count": null,
   "metadata": {},
   "outputs": [],
   "source": [
    "def d1d2(S, K, r, sigma, T):\n",
    "    # Takes T in years\n",
    "    d1 = (np.log(S / K) + ((r + ((sigma**2)/2))*T)) / (sigma * np.sqrt(T))\n",
    "    d2 = d1 - (sigma * np.sqrt(T))\n",
    "    return d1, d2\n",
    "\n",
    "\n",
    "def price_call(S, K, r, sigma, T):\n",
    "    T /= 365 # Converts T from days to years\n",
    "    d1, d2 = d1d2(S, K, r, sigma, T)\n",
    "    c = (S * norm.cdf(d1)) - (K * np.exp(-1 * r * T) * norm.cdf(d2))\n",
    "    return c\n",
    "\n",
    "def price_put(S, K, r, sigma, T):\n",
    "    T /= 365 # Converts T from days to years\n",
    "    d1, d2 = d1d2(S, K, r, sigma, T)\n",
    "    c = (K * np.exp(-1 * r * T) * norm.cdf(-d2)) - (S * norm.cdf(-d1))\n",
    "    return c\n",
    "\n",
    "def option_vega(S, K, r, sigma, T):\n",
    "    T /= 365 # Converts T from days to years\n",
    "    d1, d2 = d1d2(S, K, r, sigma, T)\n",
    "    v = S*np.sqrt(T)*norm.pdf(d1)/100 # IDK why I have to divide here\n",
    "    return v"
   ]
  },
  {
   "cell_type": "code",
   "execution_count": null,
   "metadata": {},
   "outputs": [],
   "source": [
    "def bs_estimate(iv, frame):\n",
    "    df = frame.copy(deep=True)\n",
    "    bs_price = np.zeros(df.shape)\n",
    "    i = 0\n",
    "    j = 0\n",
    "    for rowval, row in df.iterrows():\n",
    "        for colval, col in df.iteritems():\n",
    "            if colval <= current_price:\n",
    "                bs_price[i,j] = price_put(current_price, colval, r, iv[i, j], rowval)\n",
    "            else:\n",
    "                bs_price[i,j] = price_call(current_price, colval, r, iv[i, j], rowval)\n",
    "            j += 1\n",
    "        j = 0\n",
    "        i += 1\n",
    "    return bs_price\n",
    "\n",
    "def vega_estimate(iv, frame):\n",
    "    df = frame.copy(deep=True)\n",
    "    vega = np.zeros(df.shape)\n",
    "    i = 0\n",
    "    j = 0\n",
    "    for rowval, row in df.iterrows():\n",
    "        for colval, col in df.iteritems():\n",
    "            vega[i,j] = option_vega(current_price, colval, r, iv[i, j], rowval)\n",
    "            j += 1\n",
    "        j = 0\n",
    "        i += 1\n",
    "    return vega\n",
    "\n",
    "iv = np.full(df.shape, 0.2)\n",
    "bs_price = bs_estimate(iv, df)\n",
    "res = bs_price - df.values\n",
    "vega = vega_estimate(iv, df)\n",
    "\n",
    "counter = 0\n",
    "while(max(-1*res.min(), res.max()) > 0.00001):\n",
    "    iv = iv - (res/vega)/500\n",
    "    # Divide by 100 as a cheap hack to stop Newton's method from exploding\n",
    "    # Should probably switch to bisection or secant or similar\n",
    "    bs_price = bs_estimate(iv, df)\n",
    "    res = bs_price - df.values\n",
    "    vega = vega_estimate(iv, df)\n",
    "    counter += 1\n",
    "    print(\"Finished %d iterations\" % counter)"
   ]
  },
  {
   "cell_type": "code",
   "execution_count": null,
   "metadata": {},
   "outputs": [],
   "source": [
    "X = list(df)\n",
    "Y = df.index.values\n",
    "X, Y = np.meshgrid(X, Y)\n",
    "fig = plt.figure(figsize=(10,8))\n",
    "ax = fig.gca(projection='3d')\n",
    "ax.plot_surface(X, Y, iv)\n",
    "ax.xaxis.set_label_text('Strike')\n",
    "ax.yaxis.set_label_text('Days until expiry')\n",
    "title_text = \"Implied volatility on %s\" % dt.datetime.strftime(date, \"%Y-%m-%d\")\n",
    "ax.set_title(title_text)\n",
    "plt.show()"
   ]
  }
 ],
 "metadata": {
  "kernelspec": {
   "display_name": "Python 3",
   "language": "python",
   "name": "python3"
  },
  "language_info": {
   "codemirror_mode": {
    "name": "ipython",
    "version": 3
   },
   "file_extension": ".py",
   "mimetype": "text/x-python",
   "name": "python",
   "nbconvert_exporter": "python",
   "pygments_lexer": "ipython3",
   "version": "3.6.3"
  }
 },
 "nbformat": 4,
 "nbformat_minor": 2
}
